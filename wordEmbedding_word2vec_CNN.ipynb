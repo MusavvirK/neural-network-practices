{
  "nbformat": 4,
  "nbformat_minor": 0,
  "metadata": {
    "accelerator": "GPU",
    "colab": {
      "name": "wordEmbedding_word2vec_CNN.ipynb",
      "provenance": [],
      "collapsed_sections": [],
      "machine_shape": "hm"
    },
    "kernelspec": {
      "name": "python3",
      "display_name": "Python 3"
    },
    "language_info": {
      "codemirror_mode": {
        "name": "ipython",
        "version": 3
      },
      "file_extension": ".py",
      "mimetype": "text/x-python",
      "name": "python",
      "nbconvert_exporter": "python",
      "pygments_lexer": "ipython3",
      "version": "3.6.3"
    }
  },
  "cells": [
    {
      "cell_type": "markdown",
      "metadata": {
        "id": "9KTLgnbtkFUl"
      },
      "source": [
        "# This code can be executed by uploading code to Google Colab\n",
        "\n",
        "-with GPU enabled\n",
        "\n",
        "\n",
        "\n",
        ">Convolution Neural Nets(CNN) using google word2vec word-embedding"
      ]
    },
    {
      "cell_type": "markdown",
      "metadata": {
        "id": "JoVxFqDmQyf9"
      },
      "source": [
        ""
      ]
    },
    {
      "cell_type": "code",
      "metadata": {
        "id": "zUcVd8Cvqdk_"
      },
      "source": [
        "# install gensim package ( google colab)\n",
        "!pip install -q gensim"
      ],
      "execution_count": null,
      "outputs": []
    },
    {
      "cell_type": "code",
      "metadata": {
        "id": "RnAjtgkzn7Id"
      },
      "source": [
        "# Install the PyDrive wrapper & import libraries.\n",
        "# This only needs to be done once per notebook.\n",
        "!pip install -U -q PyDrive\n",
        "from pydrive.auth import GoogleAuth\n",
        "from pydrive.drive import GoogleDrive\n",
        "from google.colab import auth,files\n",
        "from oauth2client.client import GoogleCredentials\n",
        "\n",
        "# Authenticate and create the PyDrive client.\n",
        "# This only needs to be done once per notebook.\n",
        "auth.authenticate_user()\n",
        "gauth = GoogleAuth()\n",
        "gauth.credentials = GoogleCredentials.get_application_default()\n",
        "drive = GoogleDrive(gauth)"
      ],
      "execution_count": null,
      "outputs": []
    },
    {
      "cell_type": "code",
      "metadata": {
        "id": "3fcjB0qdn6XO",
        "colab": {
          "base_uri": "https://localhost:8080/",
          "height": 503
        },
        "outputId": "672075fe-00ec-4a26-a118-3243cce35b5a"
      },
      "source": [
        "csv_import = drive.CreateFile({'id':'11DI36Rpqnk-X0RTnFP6xnMVurYb20W94'})\n",
        "\n",
        "csv_import.GetContentFile('data.csv')"
      ],
      "execution_count": null,
      "outputs": [
        {
          "output_type": "stream",
          "text": [
            "W0831 04:54:21.131694 140133520877440 __init__.py:44] file_cache is unavailable when using oauth2client >= 4.0.0 or google-auth\n",
            "Traceback (most recent call last):\n",
            "  File \"/usr/local/lib/python3.6/dist-packages/googleapiclient/discovery_cache/__init__.py\", line 36, in autodetect\n",
            "    from google.appengine.api import memcache\n",
            "ModuleNotFoundError: No module named 'google.appengine'\n",
            "\n",
            "During handling of the above exception, another exception occurred:\n",
            "\n",
            "Traceback (most recent call last):\n",
            "  File \"/usr/local/lib/python3.6/dist-packages/googleapiclient/discovery_cache/file_cache.py\", line 33, in <module>\n",
            "    from oauth2client.contrib.locked_file import LockedFile\n",
            "ModuleNotFoundError: No module named 'oauth2client.contrib.locked_file'\n",
            "\n",
            "During handling of the above exception, another exception occurred:\n",
            "\n",
            "Traceback (most recent call last):\n",
            "  File \"/usr/local/lib/python3.6/dist-packages/googleapiclient/discovery_cache/file_cache.py\", line 37, in <module>\n",
            "    from oauth2client.locked_file import LockedFile\n",
            "ModuleNotFoundError: No module named 'oauth2client.locked_file'\n",
            "\n",
            "During handling of the above exception, another exception occurred:\n",
            "\n",
            "Traceback (most recent call last):\n",
            "  File \"/usr/local/lib/python3.6/dist-packages/googleapiclient/discovery_cache/__init__.py\", line 41, in autodetect\n",
            "    from . import file_cache\n",
            "  File \"/usr/local/lib/python3.6/dist-packages/googleapiclient/discovery_cache/file_cache.py\", line 41, in <module>\n",
            "    'file_cache is unavailable when using oauth2client >= 4.0.0 or google-auth')\n",
            "ImportError: file_cache is unavailable when using oauth2client >= 4.0.0 or google-auth\n"
          ],
          "name": "stderr"
        }
      ]
    },
    {
      "cell_type": "code",
      "metadata": {
        "id": "qCp4oCDVoXvP"
      },
      "source": [
        "csv_import = drive.CreateFile({'id':'1TtUeEAj2YaLiBoflMI9JkntJZ93liikg'})\n",
        "\n",
        "csv_import.GetContentFile('bad_words.csv')"
      ],
      "execution_count": null,
      "outputs": []
    },
    {
      "cell_type": "code",
      "metadata": {
        "id": "jMQYsbMjoA35"
      },
      "source": [
        "csv_import = drive.CreateFile({'id':'0B7XkCwpI5KDYNlNUTTlSS21pQmM'})\n",
        "\n",
        "csv_import.GetContentFile('GoogleNews-vectors-negative300.bin.gz')"
      ],
      "execution_count": null,
      "outputs": []
    },
    {
      "cell_type": "markdown",
      "metadata": {
        "id": "ohyoDJXyn19X"
      },
      "source": [
        "# Loading Required Libraries"
      ]
    },
    {
      "cell_type": "code",
      "metadata": {
        "id": "VO6TORg-yl3l",
        "colab": {
          "base_uri": "https://localhost:8080/",
          "height": 52
        },
        "outputId": "03cf2a5a-a708-4c68-dc39-dc3ef3224011"
      },
      "source": [
        "import pandas as pd\n",
        "import numpy as np\n",
        "import matplotlib.pyplot as plt\n",
        "%matplotlib inline\n",
        "%precision %.2f\n",
        "\n",
        "import re\n",
        "\n",
        "# Importing required libraries\n",
        "from sklearn.model_selection import train_test_split\n",
        "import nltk\n",
        "nltk.download('stopwords')\n",
        "from nltk.corpus import stopwords\n",
        "\n",
        "# keras\n",
        "from keras.preprocessing.text import Tokenizer\n",
        "from keras.preprocessing.sequence import pad_sequences\n",
        "from keras.utils import to_categorical\n",
        "\n",
        "from keras.layers import Embedding\n",
        "\n",
        "from keras.layers import Dense, Input, GlobalMaxPooling1D\n",
        "from keras.layers import Conv1D, MaxPooling1D, Embedding\n",
        "from keras.models import Model\n",
        "from keras.layers import Input, Dense, Embedding, Conv2D, MaxPooling2D, Dropout,concatenate\n",
        "from keras.layers.core import Reshape, Flatten\n",
        "from keras.callbacks import EarlyStopping\n",
        "from keras.optimizers import SGD, RMSprop, Adagrad, Adadelta, Adam, Adamax, Nadam\n",
        "from keras.models import Model\n",
        "from keras import regularizers\n",
        "\n",
        "# gensim\n",
        "import gensim\n",
        "from gensim.models import Word2Vec\n",
        "from gensim.utils import simple_preprocess\n",
        "\n",
        "from gensim.models.keyedvectors import KeyedVectors"
      ],
      "execution_count": null,
      "outputs": [
        {
          "output_type": "stream",
          "text": [
            "[nltk_data] Downloading package stopwords to /root/nltk_data...\n",
            "[nltk_data]   Package stopwords is already up-to-date!\n"
          ],
          "name": "stdout"
        }
      ]
    },
    {
      "cell_type": "code",
      "metadata": {
        "id": "POSiAyaZy5Lm"
      },
      "source": [
        "# defining function to clean text and retrive closs-validation datasets\n",
        "def cleantxt(txt):\n",
        "    \"\"\"\n",
        "    Cleans the string passed. Cleaning Includes-\n",
        "    1. remove special characters/symbols\n",
        "    2. convert text to lower-case\n",
        "    3. retain only alphabets\n",
        "    4. remove words less than 3 characters\n",
        "    5. remove stop-words\n",
        "    \"\"\"  \n",
        "    # collecting english stop words from nltk-library\n",
        "    stpw = stopwords.words('english')\n",
        "    \n",
        "    # Adding custom stop-words\n",
        "    stpw.extend(['www','http','utc'])\n",
        "    stpw = set(stpw)\n",
        "    \n",
        "    # using regex to clean the text\n",
        "    txt = re.sub(r\"\\n\", \" \", txt)\n",
        "    txt = re.sub(\"[\\<\\[].*?[\\>\\]]\", \" \", txt)\n",
        "    txt = txt.lower()\n",
        "    txt = re.sub(r\"[^a-z ]\", \" \", txt)\n",
        "    txt = re.sub(r\"\\b\\w{1,3}\\b\", \" \",txt)\n",
        "    txt = \" \".join([x for x in txt.split() if x not in stpw])\n",
        "    return txt\n",
        "\n",
        "\n",
        "def load_data():\n",
        "    \"\"\"\n",
        "    Loads data and returns train, val, and test splits\n",
        "    \"\"\"\n",
        "    # Load the train dataset\n",
        "    df = pd.read_csv(\"data.csv\")\n",
        "    \n",
        "    # Clean the text\n",
        "    df['comment_text'] = df.comment_text.apply(lambda x : cleantxt(x))\n",
        "    \n",
        "    # separate explanatory and dependent variables\n",
        "    X = df.iloc[:,1]\n",
        "    y = df.iloc[:,2:]\n",
        "\n",
        "    # split for cross-validation (train-60%, validation 20% and test 20%)\n",
        "    X_train, X_test, y_train, y_test = train_test_split(X, y, test_size=0.4, random_state=123)\n",
        "    X_test, X_val, y_test, y_val = train_test_split(X_test, y_test, test_size=0.5, random_state=123)\n",
        "\n",
        "    return X_train, X_val, X_test, y_train, y_val, y_test"
      ],
      "execution_count": null,
      "outputs": []
    },
    {
      "cell_type": "markdown",
      "metadata": {
        "id": "B2XrS6MByhLp"
      },
      "source": [
        "# Implementation of CNN on word embeddings using word2vec\n"
      ]
    },
    {
      "cell_type": "markdown",
      "metadata": {
        "id": "CZAqRc-8yhLt"
      },
      "source": [
        "## 1. Loading Data"
      ]
    },
    {
      "cell_type": "code",
      "metadata": {
        "id": "pgUlZs87yhL_",
        "colab": {
          "base_uri": "https://localhost:8080/",
          "height": 156
        },
        "outputId": "ef482b41-cf58-4e27-8dd9-27cbe0940278"
      },
      "source": [
        "# Load the data\n",
        "X_train, X_val, X_test, y_train, y_val, y_test = load_data()\n",
        "df1 = pd.read_csv(\"data.csv\")\n",
        "print(df1.head())"
      ],
      "execution_count": null,
      "outputs": [
        {
          "output_type": "stream",
          "text": [
            "                 id  ... identity_hate\n",
            "0  0000997932d777bf  ...             0\n",
            "1  000103f0d9cfb60f  ...             0\n",
            "2  000113f07ec002fd  ...             0\n",
            "3  0001b41b1c6bb37e  ...             0\n",
            "4  0001d958c54c6e35  ...             0\n",
            "\n",
            "[5 rows x 8 columns]\n"
          ],
          "name": "stdout"
        }
      ]
    },
    {
      "cell_type": "markdown",
      "metadata": {
        "id": "xrRmlaX-yhMJ"
      },
      "source": [
        "### 2. Tokenize text of the training data with keras text preprocessing functions ###"
      ]
    },
    {
      "cell_type": "code",
      "metadata": {
        "id": "VQ8Msebqn1-F"
      },
      "source": [
        "# Adding list of Bad words to tokanizer\n",
        "bad_words = pd.read_csv(\"bad_words.csv\")\n",
        "bad_words =  list(bad_words.bad_words.values)"
      ],
      "execution_count": null,
      "outputs": []
    },
    {
      "cell_type": "code",
      "metadata": {
        "id": "iC1qyOyhn1-O",
        "colab": {
          "base_uri": "https://localhost:8080/",
          "height": 35
        },
        "outputId": "26a30a86-4d1e-455e-96d1-7c8a37e152a6"
      },
      "source": [
        "# Set Maximum number of words to be embedded\n",
        "NUM_WORDS = 20000\n",
        "\n",
        "# Define/Load Tokenize text function\n",
        "tokenizer = Tokenizer(num_words=NUM_WORDS,filters='!\"#$%&()*+,-./:;<=>?@[\\\\]^_`{|}~\\t\\n\\'',\n",
        "                      lower=True)\n",
        "\n",
        "# Fit the function on the text\n",
        "tokenizer.fit_on_texts(X_train)\n",
        "\n",
        "\n",
        "# Count number of unique tokens\n",
        "word_index = tokenizer.word_index\n",
        "print('Found %s unique tokens.' % len(word_index))"
      ],
      "execution_count": null,
      "outputs": [
        {
          "output_type": "stream",
          "text": [
            "Found 119054 unique tokens.\n"
          ],
          "name": "stdout"
        }
      ]
    },
    {
      "cell_type": "code",
      "metadata": {
        "id": "6QxkHzjan1-Y"
      },
      "source": [
        "# Find top words/tokens by frequency\n",
        "# [pair[0] for pair in sorted(tokenizer.word_counts.items(), key=lambda item: item[1])]"
      ],
      "execution_count": null,
      "outputs": []
    },
    {
      "cell_type": "code",
      "metadata": {
        "id": "lg0GmeC9n1-i",
        "colab": {
          "base_uri": "https://localhost:8080/",
          "height": 35
        },
        "outputId": "c1fa85f6-848c-4190-bbdf-be2f6ba30719"
      },
      "source": [
        "# size of bad words\n",
        "num_badwords = len(bad_words)\n",
        "num_badwords"
      ],
      "execution_count": null,
      "outputs": [
        {
          "output_type": "execute_result",
          "data": {
            "text/plain": [
              "1617"
            ]
          },
          "metadata": {
            "tags": []
          },
          "execution_count": 27
        }
      ]
    },
    {
      "cell_type": "code",
      "metadata": {
        "id": "pNRDCz7Pn1-v"
      },
      "source": [
        "# Adding list of bad words to tokanizer\n",
        "n = 0\n",
        "temp_bw = bad_words\n",
        "for word, i in word_index.items():\n",
        "    if word in bad_words:\n",
        "        temp_bw.remove(word)\n",
        "        n = n+1\n",
        "    if i > (NUM_WORDS-num_badwords+n):\n",
        "        for bw in temp_bw:\n",
        "            tokenizer.word_index[bw] = i\n",
        "            i=i+1\n",
        "        break"
      ],
      "execution_count": null,
      "outputs": []
    },
    {
      "cell_type": "code",
      "metadata": {
        "id": "IEAt7RF4yhMm"
      },
      "source": [
        "# Convert train and val to sequence\n",
        "sequences_train = tokenizer.texts_to_sequences(X_train)\n",
        "sequences_valid=tokenizer.texts_to_sequences(X_val)"
      ],
      "execution_count": null,
      "outputs": []
    },
    {
      "cell_type": "code",
      "metadata": {
        "id": "T2O3DOboyhMz",
        "colab": {
          "base_uri": "https://localhost:8080/",
          "height": 52
        },
        "outputId": "4bbe4625-e0ad-47ae-c865-06cca03fb60c"
      },
      "source": [
        "# Limit size of train/val to 50 and pad the sequence\n",
        "X_train = pad_sequences(sequences_train,maxlen=50)\n",
        "X_val = pad_sequences(sequences_valid,maxlen=X_train.shape[1])\n",
        "\n",
        "# Convert target to array\n",
        "y_train = np.asarray(y_train)\n",
        "y_val = np.asarray(y_val)\n",
        "\n",
        "# Printing shape\n",
        "print('Shape of X train and X validation tensor:', X_train.shape,X_val.shape)\n",
        "print('Shape of label train and validation tensor:', y_train.shape,y_val.shape)"
      ],
      "execution_count": null,
      "outputs": [
        {
          "output_type": "stream",
          "text": [
            "Shape of X train and X validation tensor: (95742, 50) (31915, 50)\n",
            "Shape of label train and validation tensor: (95742, 6) (31915, 6)\n"
          ],
          "name": "stdout"
        }
      ]
    },
    {
      "cell_type": "markdown",
      "metadata": {
        "id": "dPz4NP2nyhM_"
      },
      "source": [
        "# word embedding"
      ]
    },
    {
      "cell_type": "markdown",
      "metadata": {
        "id": "uvkDd18IyhNC"
      },
      "source": [
        "## Use pretrain Word2Vec model from Google https://drive.google.com/file/d/0B7XkCwpI5KDYNlNUTTlSS21pQmM/edit\n",
        "## Contains 300-dimensional vectors for 3 million words and phrases "
      ]
    },
    {
      "cell_type": "code",
      "metadata": {
        "id": "Bp-sPlCNn1_l",
        "colab": {
          "base_uri": "https://localhost:8080/",
          "height": 72
        },
        "outputId": "9f7e1b44-64ce-4c5b-bcc9-c1710c9a80f9"
      },
      "source": [
        "word_vectors = KeyedVectors.load_word2vec_format(\"GoogleNews-vectors-negative300.bin.gz\",binary=True)"
      ],
      "execution_count": null,
      "outputs": [
        {
          "output_type": "stream",
          "text": [
            "/usr/local/lib/python3.6/dist-packages/smart_open/smart_open_lib.py:398: UserWarning: This function is deprecated, use smart_open.open instead. See the migration notes for details: https://github.com/RaRe-Technologies/smart_open/blob/master/README.rst#migrating-to-the-new-open-function\n",
            "  'See the migration notes for details: %s' % _MIGRATION_NOTES_URL\n"
          ],
          "name": "stderr"
        }
      ]
    },
    {
      "cell_type": "code",
      "metadata": {
        "id": "Asek-xbFn1_w"
      },
      "source": [
        "EMBEDDING_DIM=300\n",
        "vocabulary_size=min(len(word_index)+1,(NUM_WORDS))\n",
        "print(vocabulary_size)\n",
        "\n",
        "embedding_matrix = np.zeros((vocabulary_size, EMBEDDING_DIM))\n",
        "\n",
        "for word, i in word_index.items():\n",
        "    if i>=NUM_WORDS:\n",
        "        continue\n",
        "    try:\n",
        "        embedding_vector = word_vectors[word]\n",
        "        embedding_matrix[i] = embedding_vector\n",
        "    except KeyError:\n",
        "        vec = np.zeros(EMBEDDING_DIM)\n",
        "        if word in bad_words:\n",
        "            vec = word_vectors['fuck']\n",
        "        embedding_matrix[i]=vec\n"
      ],
      "execution_count": null,
      "outputs": []
    },
    {
      "cell_type": "code",
      "metadata": {
        "id": "-tSP0srUn1_-"
      },
      "source": [
        "del(word_vectors)"
      ],
      "execution_count": null,
      "outputs": []
    },
    {
      "cell_type": "code",
      "metadata": {
        "id": "ZXcgKAZtyhNT",
        "colab": {
          "base_uri": "https://localhost:8080/",
          "height": 72
        },
        "outputId": "6f7f8b20-c8a8-48b5-bfb2-22ce2ed556e3"
      },
      "source": [
        "# Dfine Embedding function using the embedding_matrix\n",
        "embedding_layer = Embedding(vocabulary_size,\n",
        "                            EMBEDDING_DIM,\n",
        "                            weights=[embedding_matrix],\n",
        "                            trainable=True)"
      ],
      "execution_count": null,
      "outputs": [
        {
          "output_type": "stream",
          "text": [
            "W0831 04:56:36.610317 140133520877440 deprecation_wrapper.py:119] From /usr/local/lib/python3.6/dist-packages/keras/backend/tensorflow_backend.py:66: The name tf.get_default_graph is deprecated. Please use tf.compat.v1.get_default_graph instead.\n",
            "\n"
          ],
          "name": "stderr"
        }
      ]
    },
    {
      "cell_type": "code",
      "metadata": {
        "id": "EnCRzRlYn2AY"
      },
      "source": [
        "del(embedding_matrix)"
      ],
      "execution_count": null,
      "outputs": []
    },
    {
      "cell_type": "markdown",
      "metadata": {
        "id": "8hIDotl3yhNc"
      },
      "source": [
        "# Build network and train it untill validation loss reduces (EarlyStopping)"
      ]
    },
    {
      "cell_type": "code",
      "metadata": {
        "id": "4c2jgSmGyhNf",
        "colab": {
          "base_uri": "https://localhost:8080/",
          "height": 263
        },
        "outputId": "62b798e5-fd11-4e94-9e1e-6476da8ce4f7"
      },
      "source": [
        "sequence_length = X_train.shape[1]\n",
        "filter_sizes = [3,4]\n",
        "num_filters = 100\n",
        "drop = 0.4\n",
        "\n",
        "inputs = Input(shape=(sequence_length,))\n",
        "embedding = embedding_layer(inputs)\n",
        "reshape = Reshape((sequence_length,EMBEDDING_DIM,1))(embedding)\n",
        "\n",
        "conv_0 = Conv2D(num_filters, (filter_sizes[0], EMBEDDING_DIM),activation='relu',kernel_regularizer=regularizers.l2(0.01))(reshape)\n",
        "conv_1 = Conv2D(num_filters, (filter_sizes[1], EMBEDDING_DIM),activation='relu',kernel_regularizer=regularizers.l2(0.01))(reshape)\n",
        "\n",
        "maxpool_0 = MaxPooling2D((sequence_length - filter_sizes[0] + 1, 1), strides=(1,1))(conv_0)\n",
        "maxpool_1 = MaxPooling2D((sequence_length - filter_sizes[1] + 1, 1), strides=(1,1))(conv_1)\n",
        "\n",
        "merged_tensor = concatenate([maxpool_0, maxpool_1], axis=1)\n",
        "flatten = Flatten()(merged_tensor)\n",
        "reshape = Reshape((2*num_filters,))(flatten)\n",
        "dropout = Dropout(drop)(flatten)\n",
        "conc = Dense(40)(dropout)\n",
        "output = Dense(units=6, activation='sigmoid',kernel_regularizer=regularizers.l2(0.01))(conc)\n",
        "\n",
        "# this creates a model that includes\n",
        "model = Model(inputs, output)"
      ],
      "execution_count": null,
      "outputs": [
        {
          "output_type": "stream",
          "text": [
            "W0831 04:56:36.665771 140133520877440 deprecation_wrapper.py:119] From /usr/local/lib/python3.6/dist-packages/keras/backend/tensorflow_backend.py:541: The name tf.placeholder is deprecated. Please use tf.compat.v1.placeholder instead.\n",
            "\n",
            "W0831 04:56:36.672729 140133520877440 deprecation_wrapper.py:119] From /usr/local/lib/python3.6/dist-packages/keras/backend/tensorflow_backend.py:4432: The name tf.random_uniform is deprecated. Please use tf.random.uniform instead.\n",
            "\n",
            "W0831 04:56:36.682153 140133520877440 deprecation_wrapper.py:119] From /usr/local/lib/python3.6/dist-packages/keras/backend/tensorflow_backend.py:190: The name tf.get_default_session is deprecated. Please use tf.compat.v1.get_default_session instead.\n",
            "\n",
            "W0831 04:56:36.682944 140133520877440 deprecation_wrapper.py:119] From /usr/local/lib/python3.6/dist-packages/keras/backend/tensorflow_backend.py:197: The name tf.ConfigProto is deprecated. Please use tf.compat.v1.ConfigProto instead.\n",
            "\n",
            "W0831 04:56:40.007160 140133520877440 deprecation_wrapper.py:119] From /usr/local/lib/python3.6/dist-packages/keras/backend/tensorflow_backend.py:4267: The name tf.nn.max_pool is deprecated. Please use tf.nn.max_pool2d instead.\n",
            "\n",
            "W0831 04:56:40.027933 140133520877440 deprecation.py:506] From /usr/local/lib/python3.6/dist-packages/keras/backend/tensorflow_backend.py:3733: calling dropout (from tensorflow.python.ops.nn_ops) with keep_prob is deprecated and will be removed in a future version.\n",
            "Instructions for updating:\n",
            "Please use `rate` instead of `keep_prob`. Rate should be set to `rate = 1 - keep_prob`.\n"
          ],
          "name": "stderr"
        }
      ]
    },
    {
      "cell_type": "code",
      "metadata": {
        "id": "xdAOHA2dyhNn",
        "colab": {
          "base_uri": "https://localhost:8080/",
          "height": 384
        },
        "outputId": "0f4625f5-37f5-428d-b3ba-3c6f1a02c739"
      },
      "source": [
        "# Compiling Model using optimizer\n",
        "opt = Adam(lr=1e-3)\n",
        "model.compile(loss='binary_crossentropy',optimizer=opt)\n",
        "\n",
        "# Fitting Model to the data\n",
        "callbacks = [EarlyStopping(monitor='val_loss')]\n",
        "hist_adam = model.fit(X_train, y_train, batch_size=400, epochs=20, verbose=2, validation_data=(X_val, y_val),\n",
        "         callbacks=callbacks)  # starts training"
      ],
      "execution_count": null,
      "outputs": [
        {
          "output_type": "stream",
          "text": [
            "W0831 04:56:40.082365 140133520877440 deprecation_wrapper.py:119] From /usr/local/lib/python3.6/dist-packages/keras/optimizers.py:793: The name tf.train.Optimizer is deprecated. Please use tf.compat.v1.train.Optimizer instead.\n",
            "\n",
            "W0831 04:56:40.089943 140133520877440 deprecation.py:323] From /usr/local/lib/python3.6/dist-packages/tensorflow/python/ops/nn_impl.py:180: add_dispatch_support.<locals>.wrapper (from tensorflow.python.ops.array_ops) is deprecated and will be removed in a future version.\n",
            "Instructions for updating:\n",
            "Use tf.where in 2.0, which has the same broadcast rule as np.where\n"
          ],
          "name": "stderr"
        },
        {
          "output_type": "stream",
          "text": [
            "Train on 95742 samples, validate on 31915 samples\n",
            "Epoch 1/20\n",
            " - 10s - loss: 0.1925 - val_loss: 0.1095\n",
            "Epoch 2/20\n",
            " - 6s - loss: 0.0937 - val_loss: 0.0827\n",
            "Epoch 3/20\n",
            " - 6s - loss: 0.0782 - val_loss: 0.0768\n",
            "Epoch 4/20\n",
            " - 6s - loss: 0.0727 - val_loss: 0.0742\n",
            "Epoch 5/20\n",
            " - 6s - loss: 0.0690 - val_loss: 0.0727\n",
            "Epoch 6/20\n",
            " - 6s - loss: 0.0665 - val_loss: 0.0707\n",
            "Epoch 7/20\n",
            " - 6s - loss: 0.0650 - val_loss: 0.0717\n"
          ],
          "name": "stdout"
        }
      ]
    },
    {
      "cell_type": "code",
      "metadata": {
        "id": "lEaqLarun2A5",
        "colab": {
          "base_uri": "https://localhost:8080/",
          "height": 330
        },
        "outputId": "c6249652-0e7e-43d0-fea6-fb5fc1cc2b54"
      },
      "source": [
        "#plotting Loss\n",
        "plt.suptitle('Optimizer : Adam', fontsize=10)\n",
        "plt.ylabel('Loss', fontsize=16)\n",
        "plt.xlabel('Epoch', fontsize=14)\n",
        "plt.plot(hist_adam.history['loss'], color='b', label='Training Loss')\n",
        "plt.plot(hist_adam.history['val_loss'], color='r', label='Validation Loss')\n",
        "plt.legend(loc='upper right')"
      ],
      "execution_count": null,
      "outputs": [
        {
          "output_type": "execute_result",
          "data": {
            "text/plain": [
              "<matplotlib.legend.Legend at 0x7f72ec8b4a20>"
            ]
          },
          "metadata": {
            "tags": []
          },
          "execution_count": 38
        },
        {
          "output_type": "display_data",
          "data": {
            "image/png": "[encoded data removed]",
            "text/plain": [
              "<Figure size 432x288 with 1 Axes>"
            ]
          },
          "metadata": {
            "tags": []
          }
        }
      ]
    },
    {
      "cell_type": "code",
      "metadata": {
        "id": "4bVcy1TStVMN",
        "colab": {
          "base_uri": "https://localhost:8080/",
          "height": 243
        },
        "outputId": "f5e499f8-4ef0-4729-e8e8-5e557a25501f"
      },
      "source": [
        "# Compiling Model using optimizer\n",
        "opt = SGD(lr=0.01, momentum=0.9, decay=0.0001)\n",
        "model.compile(loss='binary_crossentropy',optimizer=opt)\n",
        "\n",
        "# Fitting Model to the data\n",
        "callbacks = [EarlyStopping(monitor='val_loss')]\n",
        "hist_sgd = model.fit(X_train, y_train, batch_size=400, epochs=20, verbose=2, validation_data=(X_val, y_val),\n",
        "         callbacks=callbacks)  # starts training"
      ],
      "execution_count": null,
      "outputs": [
        {
          "output_type": "stream",
          "text": [
            "Train on 95742 samples, validate on 31915 samples\n",
            "Epoch 1/20\n",
            " - 6s - loss: 0.0601 - val_loss: 0.0687\n",
            "Epoch 2/20\n",
            " - 5s - loss: 0.0575 - val_loss: 0.0674\n",
            "Epoch 3/20\n",
            " - 5s - loss: 0.0567 - val_loss: 0.0671\n",
            "Epoch 4/20\n",
            " - 5s - loss: 0.0565 - val_loss: 0.0670\n",
            "Epoch 5/20\n",
            " - 5s - loss: 0.0564 - val_loss: 0.0669\n",
            "Epoch 6/20\n",
            " - 5s - loss: 0.0564 - val_loss: 0.0671\n"
          ],
          "name": "stdout"
        }
      ]
    },
    {
      "cell_type": "code",
      "metadata": {
        "id": "OQt55NgCn2BN",
        "colab": {
          "base_uri": "https://localhost:8080/",
          "height": 330
        },
        "outputId": "9c3270fb-a397-4b8b-b113-10bdad8cece4"
      },
      "source": [
        "#plotting Loss\n",
        "plt.suptitle('Optimizer : SGD', fontsize=10)\n",
        "plt.ylabel('Loss', fontsize=16)\n",
        "plt.xlabel('Epoch', fontsize=14)\n",
        "plt.plot(hist_sgd.history['loss'], color='b', label='Training Loss')\n",
        "plt.plot(hist_sgd.history['val_loss'], color='r', label='Validation Loss')\n",
        "plt.legend(loc='upper right')"
      ],
      "execution_count": null,
      "outputs": [
        {
          "output_type": "execute_result",
          "data": {
            "text/plain": [
              "<matplotlib.legend.Legend at 0x7f72ebf18ef0>"
            ]
          },
          "metadata": {
            "tags": []
          },
          "execution_count": 41
        },
        {
          "output_type": "display_data",
          "data": {
            "image/png": "[encoded data removed]",
            "text/plain": [
              "<Figure size 432x288 with 1 Axes>"
            ]
          },
          "metadata": {
            "tags": []
          }
        }
      ]
    },
    {
      "cell_type": "code",
      "metadata": {
        "id": "ahanhcOEtXCY",
        "colab": {
          "base_uri": "https://localhost:8080/",
          "height": 208
        },
        "outputId": "a6f282f1-c36d-42d6-fe20-7a1bec5eae7c"
      },
      "source": [
        "# Compiling Model using optimizer\n",
        "opt = Adadelta()\n",
        "model.compile(loss='binary_crossentropy',optimizer=opt)\n",
        "# Fitting Model to the data\n",
        "callbacks = [EarlyStopping(monitor='val_loss')]\n",
        "hist_adad = model.fit(X_train, y_train, batch_size=400, epochs=20, verbose=2, validation_data=(X_val, y_val),\n",
        "         callbacks=callbacks)  # starts training"
      ],
      "execution_count": null,
      "outputs": [
        {
          "output_type": "stream",
          "text": [
            "Train on 95742 samples, validate on 31915 samples\n",
            "Epoch 1/20\n",
            " - 7s - loss: 0.0585 - val_loss: 0.0702\n",
            "Epoch 2/20\n",
            " - 6s - loss: 0.0580 - val_loss: 0.0683\n",
            "Epoch 3/20\n",
            " - 6s - loss: 0.0585 - val_loss: 0.0677\n",
            "Epoch 4/20\n",
            " - 6s - loss: 0.0578 - val_loss: 0.0675\n",
            "Epoch 5/20\n",
            " - 6s - loss: 0.0580 - val_loss: 0.0692\n"
          ],
          "name": "stdout"
        }
      ]
    },
    {
      "cell_type": "code",
      "metadata": {
        "id": "zDTcs6OTn2Bk",
        "colab": {
          "base_uri": "https://localhost:8080/",
          "height": 330
        },
        "outputId": "8a6f98f4-dff8-4684-fd56-1a895eb35966"
      },
      "source": [
        "#plotting Loss\n",
        "plt.suptitle('Optimizer : Adadelta', fontsize=10)\n",
        "plt.ylabel('Loss', fontsize=16)\n",
        "plt.xlabel('Epoch', fontsize=14)\n",
        "plt.plot(hist_adad.history['loss'], color='b', label='Training Loss')\n",
        "plt.plot(hist_adad.history['val_loss'], color='r', label='Validation Loss')\n",
        "plt.legend(loc='upper right')"
      ],
      "execution_count": null,
      "outputs": [
        {
          "output_type": "execute_result",
          "data": {
            "text/plain": [
              "<matplotlib.legend.Legend at 0x7f72ea52b7f0>"
            ]
          },
          "metadata": {
            "tags": []
          },
          "execution_count": 44
        },
        {
          "output_type": "display_data",
          "data": {
            "image/png": "[encoded data removed]",
            "text/plain": [
              "<Figure size 432x288 with 1 Axes>"
            ]
          },
          "metadata": {
            "tags": []
          }
        }
      ]
    },
    {
      "cell_type": "markdown",
      "metadata": {
        "id": "FLpDQ1jPn2Bv"
      },
      "source": [
        "# Best Model"
      ]
    },
    {
      "cell_type": "code",
      "metadata": {
        "id": "5dlFPxv9n2By",
        "colab": {
          "base_uri": "https://localhost:8080/",
          "height": 156
        },
        "outputId": "40e9359c-46dc-41f0-e484-cd1d3fc0290e"
      },
      "source": [
        "# Compiling Model using optimizer\n",
        "opt = Adam(lr=1e-3)\n",
        "model.compile(loss='binary_crossentropy',optimizer=opt)\n",
        "\n",
        "# Fitting Model to the data\n",
        "callbacks = [EarlyStopping(monitor='val_loss')]\n",
        "model.fit(X_train, y_train, batch_size=400, epochs=5, verbose=2, validation_data=(X_val, y_val),\n",
        "         callbacks=callbacks)  # starts training"
      ],
      "execution_count": null,
      "outputs": [
        {
          "output_type": "stream",
          "text": [
            "Train on 95742 samples, validate on 31915 samples\n",
            "Epoch 1/5\n",
            " - 7s - loss: 0.0625 - val_loss: 0.0756\n",
            "Epoch 2/5\n",
            " - 6s - loss: 0.0609 - val_loss: 0.0695\n",
            "Epoch 3/5\n",
            " - 6s - loss: 0.0601 - val_loss: 0.0709\n"
          ],
          "name": "stdout"
        },
        {
          "output_type": "execute_result",
          "data": {
            "text/plain": [
              "<keras.callbacks.History at 0x7f72ebf1c630>"
            ]
          },
          "metadata": {
            "tags": []
          },
          "execution_count": 45
        }
      ]
    },
    {
      "cell_type": "markdown",
      "metadata": {
        "id": "6DCC0q6fyhN3"
      },
      "source": [
        "# Predict on test data"
      ]
    },
    {
      "cell_type": "code",
      "metadata": {
        "id": "MMxTx2ZyyhN6"
      },
      "source": [
        "# convert test to sequence and padding the sequence\n",
        "sequences_test=tokenizer.texts_to_sequences(X_test)\n",
        "X_test2 = pad_sequences(sequences_test,maxlen=X_train.shape[1])"
      ],
      "execution_count": null,
      "outputs": []
    },
    {
      "cell_type": "code",
      "metadata": {
        "id": "gErAMYukyhOa",
        "colab": {
          "base_uri": "https://localhost:8080/",
          "height": 69
        },
        "outputId": "443f8071-54ba-4f67-d90e-29256c6c4757"
      },
      "source": [
        "# Creating empty prediction array\n",
        "col = ['toxic', 'severe_toxic', 'obscene', 'threat','insult', 'identity_hate']\n",
        "\n",
        "# Predict on train, val and test datasets\n",
        "pred_train = model.predict(X_train)\n",
        "pred_test = model.predict(X_test2)\n",
        "pred_val = model.predict(X_val)\n",
        "\n",
        "# Emply array to collect AUC scores\n",
        "AUC = np.zeros((3,6))\n",
        "AUC"
      ],
      "execution_count": null,
      "outputs": [
        {
          "output_type": "execute_result",
          "data": {
            "text/plain": [
              "array([[0., 0., 0., 0., 0., 0.],\n",
              "       [0., 0., 0., 0., 0., 0.],\n",
              "       [0., 0., 0., 0., 0., 0.]])"
            ]
          },
          "metadata": {
            "tags": []
          },
          "execution_count": 47
        }
      ]
    },
    {
      "cell_type": "code",
      "metadata": {
        "id": "zzBhVFgkn2CQ",
        "colab": {
          "base_uri": "https://localhost:8080/",
          "height": 139
        },
        "outputId": "a72db4d0-ee2a-4663-c139-7c61bcf48766"
      },
      "source": [
        "from sklearn import metrics\n",
        "for i,x in enumerate(col):\n",
        "    auc = np.array([metrics.roc_auc_score(y_train[:,i], pred_train[:,i]),\n",
        "                    metrics.roc_auc_score(y_val[:,i], pred_val[:,i]),\n",
        "                    metrics.roc_auc_score(y_test[x], pred_test[:,i])])\n",
        "    print(x,\"Train AUC:\",auc[0],\", Val AUC:\",auc[1],\", Test AUC:\",auc[2])\n",
        "    AUC[:,i] = auc\n",
        "    \n",
        "avg_auc = AUC.mean(axis=1)\n",
        "print(\"Average Train AUC:\",avg_auc[0],\", Average Val AUC:\",avg_auc[1],\", Average Test AUC:\",avg_auc[2])"
      ],
      "execution_count": null,
      "outputs": [
        {
          "output_type": "stream",
          "text": [
            "toxic Train AUC: 0.9855551872720669 , Val AUC: 0.9579506535146012 , Test AUC: 0.9552147192256993\n",
            "severe_toxic Train AUC: 0.9893364993444375 , Val AUC: 0.9792856812522668 , Test AUC: 0.9815730689206068\n",
            "obscene Train AUC: 0.991274463447102 , Val AUC: 0.9745716601579055 , Test AUC: 0.9825372559263932\n",
            "threat Train AUC: 0.955835870593275 , Val AUC: 0.90522490139277 , Test AUC: 0.926683839950787\n",
            "insult Train AUC: 0.9864440087882215 , Val AUC: 0.9681527319797465 , Test AUC: 0.9708460797349026\n",
            "identity_hate Train AUC: 0.9646761499165266 , Val AUC: 0.9303174839363928 , Test AUC: 0.9286648452238085\n",
            "Average Train AUC: 0.9788536965602717 , Average Val AUC: 0.9525838520389471 , Average Test AUC: 0.9575866348303662\n"
          ],
          "name": "stdout"
        }
      ]
    }
  ]
}